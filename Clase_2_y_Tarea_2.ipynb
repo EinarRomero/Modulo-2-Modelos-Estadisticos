{
  "nbformat": 4,
  "nbformat_minor": 0,
  "metadata": {
    "colab": {
      "provenance": [],
      "authorship_tag": "ABX9TyNRgHYqeQHxuMcq6G0ZtyIy",
      "include_colab_link": true
    },
    "kernelspec": {
      "name": "python3",
      "display_name": "Python 3"
    },
    "language_info": {
      "name": "python"
    }
  },
  "cells": [
    {
      "cell_type": "markdown",
      "metadata": {
        "id": "view-in-github",
        "colab_type": "text"
      },
      "source": [
        "<a href=\"https://colab.research.google.com/github/EinarRomero/Modulo-2-Modelos-Estadisticos/blob/main/Clase_2_y_Tarea_2.ipynb\" target=\"_parent\"><img src=\"https://colab.research.google.com/assets/colab-badge.svg\" alt=\"Open In Colab\"/></a>"
      ]
    },
    {
      "cell_type": "markdown",
      "source": [
        "Vamos a modelar a traves de un experimento aleatorio, la ley (funcion de densidad de una v.a. uniforme discreta)\n",
        "\n"
      ],
      "metadata": {
        "id": "jhJDb8-ybkQm"
      }
    },
    {
      "cell_type": "markdown",
      "source": [
        "### Diccionarios\n",
        "\n",
        "Un diccionario es un objeto que se crea a partir de algo que se llama \"llave\" y nos arroja \"valores\":\n",
        "\n",
        "\\{ key : values \\}"
      ],
      "metadata": {
        "id": "Xz1hLdUbb0G5"
      }
    },
    {
      "cell_type": "code",
      "source": [
        "d = {\"Einar\": [\"Salomon\",\"Kiara\"],\n",
        "        \"Nivel\": [10,8],\n",
        "        \"Calif\": [8.4,9.6]\n",
        "        }\n",
        "d"
      ],
      "metadata": {
        "colab": {
          "base_uri": "https://localhost:8080/"
        },
        "id": "MxwAI2ABq8-p",
        "outputId": "0d2049de-21b5-48a2-f3f4-62ba42945691"
      },
      "execution_count": 12,
      "outputs": [
        {
          "output_type": "execute_result",
          "data": {
            "text/plain": [
              "{'Einar': ['Salomon', 'Kiara'], 'Nivel': [10, 8], 'Calif': [8.4, 9.6]}"
            ]
          },
          "metadata": {},
          "execution_count": 12
        }
      ]
    },
    {
      "cell_type": "code",
      "source": [
        "type(d) #Tipo de variable que definimos anterioremente (dic=diccionario)"
      ],
      "metadata": {
        "colab": {
          "base_uri": "https://localhost:8080/"
        },
        "id": "juvO_cyHrRzV",
        "outputId": "69c6319e-f4f4-4444-9925-196c55f7c428"
      },
      "execution_count": 13,
      "outputs": [
        {
          "output_type": "execute_result",
          "data": {
            "text/plain": [
              "dict"
            ]
          },
          "metadata": {},
          "execution_count": 13
        }
      ]
    },
    {
      "cell_type": "code",
      "source": [
        "d.keys() #Son las llaves de un diccionario"
      ],
      "metadata": {
        "colab": {
          "base_uri": "https://localhost:8080/"
        },
        "id": "l2hN7_BfrZB1",
        "outputId": "b37be271-14cf-46bb-ed69-e2ed95114b68"
      },
      "execution_count": 14,
      "outputs": [
        {
          "output_type": "execute_result",
          "data": {
            "text/plain": [
              "dict_keys(['Einar', 'Nivel', 'Calif'])"
            ]
          },
          "metadata": {},
          "execution_count": 14
        }
      ]
    },
    {
      "cell_type": "code",
      "source": [
        "d.values() #Valores del diccionario definido"
      ],
      "metadata": {
        "colab": {
          "base_uri": "https://localhost:8080/"
        },
        "id": "1BkoYFLprdaA",
        "outputId": "cbcc41dc-11cd-4857-f736-5401b39b2722"
      },
      "execution_count": 15,
      "outputs": [
        {
          "output_type": "execute_result",
          "data": {
            "text/plain": [
              "dict_values([['Salomon', 'Kiara'], [10, 8], [8.4, 9.6]])"
            ]
          },
          "metadata": {},
          "execution_count": 15
        }
      ]
    },
    {
      "cell_type": "code",
      "source": [
        "d.values()[0]"
      ],
      "metadata": {
        "colab": {
          "base_uri": "https://localhost:8080/",
          "height": 141
        },
        "id": "x80R2cZbrt8s",
        "outputId": "2a37c9db-e1d9-4e80-e415-1c49d943e050"
      },
      "execution_count": 16,
      "outputs": [
        {
          "output_type": "error",
          "ename": "TypeError",
          "evalue": "'dict_values' object is not subscriptable",
          "traceback": [
            "\u001b[0;31m---------------------------------------------------------------------------\u001b[0m",
            "\u001b[0;31mTypeError\u001b[0m                                 Traceback (most recent call last)",
            "\u001b[0;32m<ipython-input-16-d8a1069851b8>\u001b[0m in \u001b[0;36m<cell line: 1>\u001b[0;34m()\u001b[0m\n\u001b[0;32m----> 1\u001b[0;31m \u001b[0md\u001b[0m\u001b[0;34m.\u001b[0m\u001b[0mvalues\u001b[0m\u001b[0;34m(\u001b[0m\u001b[0;34m)\u001b[0m\u001b[0;34m[\u001b[0m\u001b[0;36m0\u001b[0m\u001b[0;34m]\u001b[0m\u001b[0;34m\u001b[0m\u001b[0;34m\u001b[0m\u001b[0m\n\u001b[0m",
            "\u001b[0;31mTypeError\u001b[0m: 'dict_values' object is not subscriptable"
          ]
        }
      ]
    },
    {
      "cell_type": "code",
      "source": [
        "d.items() #Items del diccionario definido"
      ],
      "metadata": {
        "colab": {
          "base_uri": "https://localhost:8080/"
        },
        "id": "aDtgmdvNrvmn",
        "outputId": "ed24c6cc-22b8-48b4-99f8-68826a664493"
      },
      "execution_count": 17,
      "outputs": [
        {
          "output_type": "execute_result",
          "data": {
            "text/plain": [
              "dict_items([('Einar', ['Salomon', 'Kiara']), ('Nivel', [10, 8]), ('Calif', [8.4, 9.6])])"
            ]
          },
          "metadata": {},
          "execution_count": 17
        }
      ]
    },
    {
      "cell_type": "markdown",
      "source": [
        "##Ejemplo de la v.a. uniforme\n",
        "\n",
        "Sea el experimento aleatorio de lanzar dos dados juntos:\n",
        "* $Ω=\\{1,2,3,4,5,6\\} \\times \\{1,2,3,4,5,6\\}$\n",
        "* $\\mathcal{F} = P(Ω)$\n",
        "* Para $w=(i,j)$ donde $i,j\\in\\{1,...,6\\}$ tal que\n",
        "$$\\mathbb{P}(\\{\\omega\\})=\\frac{1}{36}$$\n",
        "\n",
        "Vamos a definir a la siguiente variabe aleatoria:\n",
        "$$S:Ω \\to R_{S}$$\n",
        "\n",
        "donde $R_{S}=\\{2,3,4,5,6,7,8,9,10,11,12\\}.$\n",
        "\n",
        "Para que entendamos la ley de una v.a., basta con entender los siguientes datos\n",
        "\n",
        "$$\\{(k,\\mathbb{P}(S=k))\\}_{k \\in R_{S}}$$\n",
        "\n",
        "Vamos a entender a $S$ como eventos.\n",
        "\n",
        "Sea $S_{n}$ el evento la suma de las caras es n.\n",
        "\n",
        "$$S_{n}= \\{(i,j) \\in Ω \\mid i+j=n\\}$$"
      ],
      "metadata": {
        "id": "mgRWXQMP-V40"
      }
    },
    {
      "cell_type": "code",
      "source": [
        "from itertools import product #para el producto cartesiano\n",
        "from fractions import Fraction"
      ],
      "metadata": {
        "id": "iGnKvm5kA-Rd"
      },
      "execution_count": 18,
      "outputs": []
    },
    {
      "cell_type": "markdown",
      "source": [
        "Primero vamos a crear una funcion de probabilidad global:"
      ],
      "metadata": {
        "id": "FL_mzTrkBREk"
      }
    },
    {
      "cell_type": "code",
      "source": [
        "def P(A,Omega):\n",
        "  P = Fraction(len(A),len(Omega))\n",
        "  return P"
      ],
      "metadata": {
        "id": "P6oHNXveBXBU"
      },
      "execution_count": 19,
      "outputs": []
    },
    {
      "cell_type": "code",
      "source": [
        "S_2 = {(i,j) for i in range(1,7) for j in range(1,7) if  i+j == 2}\n",
        "S_2"
      ],
      "metadata": {
        "colab": {
          "base_uri": "https://localhost:8080/"
        },
        "id": "Coxpj4lnCTB0",
        "outputId": "c6d2821c-8875-44d7-8813-5f580d86e0ef"
      },
      "execution_count": 20,
      "outputs": [
        {
          "output_type": "execute_result",
          "data": {
            "text/plain": [
              "{(1, 1)}"
            ]
          },
          "metadata": {},
          "execution_count": 20
        }
      ]
    },
    {
      "cell_type": "markdown",
      "source": [
        "Nota. Realizar esto para cada valor de $n$ no es eficiente. Vamos a hacer esto mas rapido utilizando diccionarios."
      ],
      "metadata": {
        "id": "jblJ1BFfDn6C"
      }
    },
    {
      "cell_type": "code",
      "source": [
        "## Primero vamos a crear a nuestro espacio muestral Omega\n",
        "L = [i for i in range(1,7)] #Lista por comprension\n",
        "Omega = set(product(L, repeat=2))\n",
        "Omega"
      ],
      "metadata": {
        "colab": {
          "base_uri": "https://localhost:8080/"
        },
        "collapsed": true,
        "id": "xe6DSonkDm7n",
        "outputId": "b5a77c93-2803-49f3-9054-909321aae54a"
      },
      "execution_count": 21,
      "outputs": [
        {
          "output_type": "execute_result",
          "data": {
            "text/plain": [
              "{(1, 1),\n",
              " (1, 2),\n",
              " (1, 3),\n",
              " (1, 4),\n",
              " (1, 5),\n",
              " (1, 6),\n",
              " (2, 1),\n",
              " (2, 2),\n",
              " (2, 3),\n",
              " (2, 4),\n",
              " (2, 5),\n",
              " (2, 6),\n",
              " (3, 1),\n",
              " (3, 2),\n",
              " (3, 3),\n",
              " (3, 4),\n",
              " (3, 5),\n",
              " (3, 6),\n",
              " (4, 1),\n",
              " (4, 2),\n",
              " (4, 3),\n",
              " (4, 4),\n",
              " (4, 5),\n",
              " (4, 6),\n",
              " (5, 1),\n",
              " (5, 2),\n",
              " (5, 3),\n",
              " (5, 4),\n",
              " (5, 5),\n",
              " (5, 6),\n",
              " (6, 1),\n",
              " (6, 2),\n",
              " (6, 3),\n",
              " (6, 4),\n",
              " (6, 5),\n",
              " (6, 6)}"
            ]
          },
          "metadata": {},
          "execution_count": 21
        }
      ]
    },
    {
      "cell_type": "code",
      "source": [
        "S = {(i,j): i+j for i,j in Omega}\n",
        "S"
      ],
      "metadata": {
        "colab": {
          "base_uri": "https://localhost:8080/"
        },
        "id": "QzUpf5ahFPyM",
        "outputId": "88dcf2b5-344b-4d12-e56e-4f5b189798a8"
      },
      "execution_count": 22,
      "outputs": [
        {
          "output_type": "execute_result",
          "data": {
            "text/plain": [
              "{(3, 4): 7,\n",
              " (4, 3): 7,\n",
              " (3, 1): 4,\n",
              " (5, 4): 9,\n",
              " (4, 6): 10,\n",
              " (5, 1): 6,\n",
              " (2, 2): 4,\n",
              " (1, 6): 7,\n",
              " (2, 5): 7,\n",
              " (1, 3): 4,\n",
              " (6, 2): 8,\n",
              " (6, 5): 11,\n",
              " (4, 2): 6,\n",
              " (4, 5): 9,\n",
              " (3, 3): 6,\n",
              " (5, 6): 11,\n",
              " (3, 6): 9,\n",
              " (5, 3): 8,\n",
              " (2, 4): 6,\n",
              " (1, 2): 3,\n",
              " (2, 1): 3,\n",
              " (1, 5): 6,\n",
              " (6, 1): 7,\n",
              " (6, 4): 10,\n",
              " (3, 2): 5,\n",
              " (4, 1): 5,\n",
              " (3, 5): 8,\n",
              " (5, 2): 7,\n",
              " (4, 4): 8,\n",
              " (5, 5): 10,\n",
              " (1, 1): 2,\n",
              " (1, 4): 5,\n",
              " (2, 3): 5,\n",
              " (2, 6): 8,\n",
              " (6, 6): 12,\n",
              " (6, 3): 9}"
            ]
          },
          "metadata": {},
          "execution_count": 22
        }
      ]
    },
    {
      "cell_type": "code",
      "source": [
        "#Vamos a crear un diccionario por default de manera sintetica y arreglada\n",
        "from collections import defaultdict\n",
        "dS = defaultdict(set)\n",
        "dS"
      ],
      "metadata": {
        "colab": {
          "base_uri": "https://localhost:8080/"
        },
        "id": "kv0UN5RoGMoF",
        "outputId": "84a9d0c4-b4f4-4506-f998-c7629a855cbc"
      },
      "execution_count": 23,
      "outputs": [
        {
          "output_type": "execute_result",
          "data": {
            "text/plain": [
              "defaultdict(set, {})"
            ]
          },
          "metadata": {},
          "execution_count": 23
        }
      ]
    },
    {
      "cell_type": "markdown",
      "source": [
        "[Para collections ir a](https://docs.python.org/es/3/library/collections.html)"
      ],
      "metadata": {
        "id": "NWr3K-nYNbl4"
      }
    },
    {
      "cell_type": "markdown",
      "source": [
        "Vamos a añadir elementos a un diccionario que esta vacio"
      ],
      "metadata": {
        "id": "TLInaWzuHcoC"
      }
    },
    {
      "cell_type": "code",
      "source": [
        "#for (i,j) in S.items():\n",
        "  #print(j)\n",
        "  #print(i)\n",
        "  #Si imprimo j, python nos arroja los valores del diccionario\n",
        "  #Si imprimo i, python nos arroja los elementos de la izquierda (llaves)"
      ],
      "metadata": {
        "id": "53EZAxIrHblW"
      },
      "execution_count": 24,
      "outputs": []
    },
    {
      "cell_type": "code",
      "source": [
        "for i,j in S.items():\n",
        "  dS[j].add(i) #añadiendo al diccionario las llaves que sean tratados como conjuntos\n",
        "dS"
      ],
      "metadata": {
        "colab": {
          "base_uri": "https://localhost:8080/"
        },
        "id": "Qpqi2bJJInQq",
        "outputId": "4e00de58-779b-4daa-ae42-52f0bc2e7d73"
      },
      "execution_count": 25,
      "outputs": [
        {
          "output_type": "execute_result",
          "data": {
            "text/plain": [
              "defaultdict(set,\n",
              "            {7: {(1, 6), (2, 5), (3, 4), (4, 3), (5, 2), (6, 1)},\n",
              "             4: {(1, 3), (2, 2), (3, 1)},\n",
              "             9: {(3, 6), (4, 5), (5, 4), (6, 3)},\n",
              "             10: {(4, 6), (5, 5), (6, 4)},\n",
              "             6: {(1, 5), (2, 4), (3, 3), (4, 2), (5, 1)},\n",
              "             8: {(2, 6), (3, 5), (4, 4), (5, 3), (6, 2)},\n",
              "             11: {(5, 6), (6, 5)},\n",
              "             3: {(1, 2), (2, 1)},\n",
              "             5: {(1, 4), (2, 3), (3, 2), (4, 1)},\n",
              "             2: {(1, 1)},\n",
              "             12: {(6, 6)}})"
            ]
          },
          "metadata": {},
          "execution_count": 25
        }
      ]
    },
    {
      "cell_type": "code",
      "source": [
        "leyS = {k : P(A,Omega) for k,A in dS.items()}\n",
        "leyS"
      ],
      "metadata": {
        "colab": {
          "base_uri": "https://localhost:8080/"
        },
        "id": "i3BHc7QtKj22",
        "outputId": "4b6f843f-a506-4c89-c357-f99092d6edf0"
      },
      "execution_count": 26,
      "outputs": [
        {
          "output_type": "execute_result",
          "data": {
            "text/plain": [
              "{7: Fraction(1, 6),\n",
              " 4: Fraction(1, 12),\n",
              " 9: Fraction(1, 9),\n",
              " 10: Fraction(1, 12),\n",
              " 6: Fraction(5, 36),\n",
              " 8: Fraction(5, 36),\n",
              " 11: Fraction(1, 18),\n",
              " 3: Fraction(1, 18),\n",
              " 5: Fraction(1, 9),\n",
              " 2: Fraction(1, 36),\n",
              " 12: Fraction(1, 36)}"
            ]
          },
          "metadata": {},
          "execution_count": 26
        }
      ]
    },
    {
      "cell_type": "markdown",
      "source": [
        "# Introducción a Pandas en Python\n",
        "\n",
        "**Pandas** es una biblioteca de Python muy popular para la manipulación y análisis de datos. Proporciona estructuras de datos de alto rendimiento como `Series` y `DataFrame` que hacen que trabajar con datos tabulares y series temporales sea fácil.\n",
        "\n",
        "1.  Importar Pandas\n",
        "Para empezar a trabajar con Pandas, lo primero es importarlo:"
      ],
      "metadata": {
        "id": "dlqqSuF6sZl7"
      }
    },
    {
      "cell_type": "code",
      "source": [
        "import pandas as pd"
      ],
      "metadata": {
        "id": "zzWoyKP0YgkY"
      },
      "execution_count": 27,
      "outputs": []
    },
    {
      "cell_type": "markdown",
      "source": [
        "## Series en Pandas\n",
        "\n",
        "Una Series es una estructura de datos unidimensional (similar a una lista o un array de NumPy), pero con etiquetas. Aquí tienes un ejemplo:\n"
      ],
      "metadata": {
        "id": "YFruV2QDsjnS"
      }
    },
    {
      "cell_type": "code",
      "source": [
        "# Crear una Serie\n",
        "serie = pd.Series([1, 3, 5, 7, 9], index=['a', 'b', 'c', 'd', 'e'])\n",
        "print(serie)"
      ],
      "metadata": {
        "colab": {
          "base_uri": "https://localhost:8080/"
        },
        "id": "Z-vjmT4-sh-F",
        "outputId": "d6d850ec-2efc-4422-af8c-d531fe5885a3"
      },
      "execution_count": 28,
      "outputs": [
        {
          "output_type": "stream",
          "name": "stdout",
          "text": [
            "a    1\n",
            "b    3\n",
            "c    5\n",
            "d    7\n",
            "e    9\n",
            "dtype: int64\n"
          ]
        }
      ]
    },
    {
      "cell_type": "code",
      "source": [
        "#Acceder a un elemento de la Serie\n",
        "print(serie['c'])"
      ],
      "metadata": {
        "colab": {
          "base_uri": "https://localhost:8080/"
        },
        "id": "PG15IkHSs4-B",
        "outputId": "0618cc73-7370-42ec-aa2d-bda95cf93fe3"
      },
      "execution_count": 29,
      "outputs": [
        {
          "output_type": "stream",
          "name": "stdout",
          "text": [
            "5\n"
          ]
        }
      ]
    },
    {
      "cell_type": "markdown",
      "source": [
        "Regresando a nuestro ejermplo de la suma de las caras del dado, tenemos"
      ],
      "metadata": {
        "id": "zw77ZZTYs7hR"
      }
    },
    {
      "cell_type": "code",
      "source": [
        "leyS = pd.Series(leyS)\n",
        "leyS = leyS.sort_index()\n",
        "leyS"
      ],
      "metadata": {
        "colab": {
          "base_uri": "https://localhost:8080/",
          "height": 429
        },
        "id": "GG-DJsmhYjk5",
        "outputId": "2ccc1899-7259-4f66-f009-cdb446d2cc49"
      },
      "execution_count": 30,
      "outputs": [
        {
          "output_type": "execute_result",
          "data": {
            "text/plain": [
              "2     1/36\n",
              "3     1/18\n",
              "4     1/12\n",
              "5      1/9\n",
              "6     5/36\n",
              "7      1/6\n",
              "8     5/36\n",
              "9      1/9\n",
              "10    1/12\n",
              "11    1/18\n",
              "12    1/36\n",
              "dtype: object"
            ],
            "text/html": [
              "<div>\n",
              "<style scoped>\n",
              "    .dataframe tbody tr th:only-of-type {\n",
              "        vertical-align: middle;\n",
              "    }\n",
              "\n",
              "    .dataframe tbody tr th {\n",
              "        vertical-align: top;\n",
              "    }\n",
              "\n",
              "    .dataframe thead th {\n",
              "        text-align: right;\n",
              "    }\n",
              "</style>\n",
              "<table border=\"1\" class=\"dataframe\">\n",
              "  <thead>\n",
              "    <tr style=\"text-align: right;\">\n",
              "      <th></th>\n",
              "      <th>0</th>\n",
              "    </tr>\n",
              "  </thead>\n",
              "  <tbody>\n",
              "    <tr>\n",
              "      <th>2</th>\n",
              "      <td>1/36</td>\n",
              "    </tr>\n",
              "    <tr>\n",
              "      <th>3</th>\n",
              "      <td>1/18</td>\n",
              "    </tr>\n",
              "    <tr>\n",
              "      <th>4</th>\n",
              "      <td>1/12</td>\n",
              "    </tr>\n",
              "    <tr>\n",
              "      <th>5</th>\n",
              "      <td>1/9</td>\n",
              "    </tr>\n",
              "    <tr>\n",
              "      <th>6</th>\n",
              "      <td>5/36</td>\n",
              "    </tr>\n",
              "    <tr>\n",
              "      <th>7</th>\n",
              "      <td>1/6</td>\n",
              "    </tr>\n",
              "    <tr>\n",
              "      <th>8</th>\n",
              "      <td>5/36</td>\n",
              "    </tr>\n",
              "    <tr>\n",
              "      <th>9</th>\n",
              "      <td>1/9</td>\n",
              "    </tr>\n",
              "    <tr>\n",
              "      <th>10</th>\n",
              "      <td>1/12</td>\n",
              "    </tr>\n",
              "    <tr>\n",
              "      <th>11</th>\n",
              "      <td>1/18</td>\n",
              "    </tr>\n",
              "    <tr>\n",
              "      <th>12</th>\n",
              "      <td>1/36</td>\n",
              "    </tr>\n",
              "  </tbody>\n",
              "</table>\n",
              "</div><br><label><b>dtype:</b> object</label>"
            ]
          },
          "metadata": {},
          "execution_count": 30
        }
      ]
    },
    {
      "cell_type": "markdown",
      "source": [
        "#Ejercicios:\n",
        "1. Documentar el colab\n",
        "2. Calcular la ley de las siguientes variables aleatorias\n",
        "  * La diferencia de las caras es mayor que 1\n",
        "  * La suma de las caras sea par\n",
        "3. Verifica en cada caso que:\n",
        "  $$∑_{k \\in R_{X}}\\mathbb{P}(X=k) = 1$$\n",
        "4. Grafica la funcion de distribucion de la v.a (la suma de los resultados es n)\n",
        "4. Sube tu notebook a Github."
      ],
      "metadata": {
        "id": "evfxVnJIZKyx"
      }
    },
    {
      "cell_type": "markdown",
      "source": [
        "##Calcular la ley de la v.a la suma de las caras es mayor que 1\n",
        "\n",
        "Utilizando la lista $L= [1,2,3,4,5,6]$ con los número posibles del dado y al conjunto\n",
        "$\\Omega = \\{1,2,3,4,5,6\\} \\times \\{1,2,3,4,5,6\\}$  que contiene a los posibles pares ordenados de lanzar los dos dados.\n",
        "\n",
        "Se define al conjunto $S_{d}$ un subconjunto de $\\Omega$ para conocer los distintos pares con su valor de diferencia que cumpla la definición de la v.a."
      ],
      "metadata": {
        "id": "5OuIzfHDzG4u"
      }
    },
    {
      "cell_type": "code",
      "source": [
        "from itertools import product #Para el producto cartesiano\n",
        "from fractions import Fraction #para poder usar la función fraccion"
      ],
      "metadata": {
        "id": "DIG338JdY9wr"
      },
      "execution_count": 31,
      "outputs": []
    },
    {
      "cell_type": "code",
      "source": [
        "#Prueba para conocer todas las diferencias de los pares al lanzar dos dados\n",
        "S_dp={(i,j):i-j for i,j in Omega}\n",
        "S_dp"
      ],
      "metadata": {
        "colab": {
          "base_uri": "https://localhost:8080/"
        },
        "id": "RwZN-1AIyEUi",
        "outputId": "e4090abc-9c3e-43d6-c3c4-09bb5f2d5b09"
      },
      "execution_count": 32,
      "outputs": [
        {
          "output_type": "execute_result",
          "data": {
            "text/plain": [
              "{(3, 4): -1,\n",
              " (4, 3): 1,\n",
              " (3, 1): 2,\n",
              " (5, 4): 1,\n",
              " (4, 6): -2,\n",
              " (5, 1): 4,\n",
              " (2, 2): 0,\n",
              " (1, 6): -5,\n",
              " (2, 5): -3,\n",
              " (1, 3): -2,\n",
              " (6, 2): 4,\n",
              " (6, 5): 1,\n",
              " (4, 2): 2,\n",
              " (4, 5): -1,\n",
              " (3, 3): 0,\n",
              " (5, 6): -1,\n",
              " (3, 6): -3,\n",
              " (5, 3): 2,\n",
              " (2, 4): -2,\n",
              " (1, 2): -1,\n",
              " (2, 1): 1,\n",
              " (1, 5): -4,\n",
              " (6, 1): 5,\n",
              " (6, 4): 2,\n",
              " (3, 2): 1,\n",
              " (4, 1): 3,\n",
              " (3, 5): -2,\n",
              " (5, 2): 3,\n",
              " (4, 4): 0,\n",
              " (5, 5): 0,\n",
              " (1, 1): 0,\n",
              " (1, 4): -3,\n",
              " (2, 3): -1,\n",
              " (2, 6): -4,\n",
              " (6, 6): 0,\n",
              " (6, 3): 3}"
            ]
          },
          "metadata": {},
          "execution_count": 32
        }
      ]
    },
    {
      "cell_type": "code",
      "source": [
        "#Da la diferencia de cada uno de los pares ordenados con diferencia mayor a 1\n",
        "S_d={(i,j):i-j for i,j in Omega if i-j>1}\n",
        "S_d"
      ],
      "metadata": {
        "colab": {
          "base_uri": "https://localhost:8080/"
        },
        "id": "Of0WL1wKyEMb",
        "outputId": "37f799ad-d5e5-45d6-aae2-8242b4b0cace"
      },
      "execution_count": 33,
      "outputs": [
        {
          "output_type": "execute_result",
          "data": {
            "text/plain": [
              "{(3, 1): 2,\n",
              " (5, 1): 4,\n",
              " (6, 2): 4,\n",
              " (4, 2): 2,\n",
              " (5, 3): 2,\n",
              " (6, 1): 5,\n",
              " (6, 4): 2,\n",
              " (4, 1): 3,\n",
              " (5, 2): 3,\n",
              " (6, 3): 3}"
            ]
          },
          "metadata": {},
          "execution_count": 33
        }
      ]
    },
    {
      "cell_type": "code",
      "source": [
        "#Define al conjunto Omega2, conformado por los pares ordenados para obtener su cardinalidad\n",
        "Omega2=S_d.keys()\n",
        "Omega2"
      ],
      "metadata": {
        "colab": {
          "base_uri": "https://localhost:8080/"
        },
        "id": "wF1OlPLHyEJA",
        "outputId": "832ff354-a92b-497b-ee56-67f25580f909"
      },
      "execution_count": 34,
      "outputs": [
        {
          "output_type": "execute_result",
          "data": {
            "text/plain": [
              "dict_keys([(3, 1), (5, 1), (6, 2), (4, 2), (5, 3), (6, 1), (6, 4), (4, 1), (5, 2), (6, 3)])"
            ]
          },
          "metadata": {},
          "execution_count": 34
        }
      ]
    },
    {
      "cell_type": "code",
      "source": [
        "#Cardinalidad de Omega2\n",
        "len(Omega2)"
      ],
      "metadata": {
        "colab": {
          "base_uri": "https://localhost:8080/"
        },
        "id": "BR9an_G5yEFM",
        "outputId": "54cb5f84-616f-422f-9d0c-3eab58760580"
      },
      "execution_count": 35,
      "outputs": [
        {
          "output_type": "execute_result",
          "data": {
            "text/plain": [
              "10"
            ]
          },
          "metadata": {},
          "execution_count": 35
        }
      ]
    },
    {
      "cell_type": "code",
      "source": [
        "#Se define la función que considera al evento A y a Omega2\n",
        "#para poder conocer la probabilidad de ocurrencia\n",
        "def P2(A,Omega2):\n",
        "  P2=Fraction(len(A),len(Omega2))\n",
        "  return P2"
      ],
      "metadata": {
        "id": "Tl5x-o89yEBc"
      },
      "execution_count": 36,
      "outputs": []
    },
    {
      "cell_type": "code",
      "source": [
        "#Vamos a crear un diccionario por default de manera sintética y arreglada\n",
        "from collections import defaultdict\n",
        "dS_d=defaultdict(set) #los parentesis los rellenas con set porque vas a agregar conjuntos\n",
        "dS_d"
      ],
      "metadata": {
        "colab": {
          "base_uri": "https://localhost:8080/"
        },
        "id": "rXyHhds_yD9J",
        "outputId": "6bcb3764-9dd1-49be-d2f4-f5f1484c021b"
      },
      "execution_count": 37,
      "outputs": [
        {
          "output_type": "execute_result",
          "data": {
            "text/plain": [
              "defaultdict(set, {})"
            ]
          },
          "metadata": {},
          "execution_count": 37
        }
      ]
    },
    {
      "cell_type": "code",
      "source": [
        "#Si imprimo j, me da los resultados de las diferencias de los pares del diccionario\n",
        "#Si imprimo i, me da los elementos de la izquierda (llaves)\n",
        "for i,j in S_d.items():\n",
        "  dS_d[j].add(i) #Para cada j, añades al diccionario la llave i\n",
        "dS_d"
      ],
      "metadata": {
        "colab": {
          "base_uri": "https://localhost:8080/"
        },
        "id": "EcNp1f0JyD5P",
        "outputId": "3d057af2-110a-46b9-8c2a-d832aeef99ed"
      },
      "execution_count": 38,
      "outputs": [
        {
          "output_type": "execute_result",
          "data": {
            "text/plain": [
              "defaultdict(set,\n",
              "            {2: {(3, 1), (4, 2), (5, 3), (6, 4)},\n",
              "             4: {(5, 1), (6, 2)},\n",
              "             5: {(6, 1)},\n",
              "             3: {(4, 1), (5, 2), (6, 3)}})"
            ]
          },
          "metadata": {},
          "execution_count": 38
        }
      ]
    },
    {
      "cell_type": "code",
      "source": [
        "leyS_d={k: P2(A,Omega2) for k,A in dS_d.items()}\n",
        "leyS_d"
      ],
      "metadata": {
        "colab": {
          "base_uri": "https://localhost:8080/"
        },
        "id": "-RQdkRMFyD1H",
        "outputId": "0fdf9c28-b639-444e-cfa7-c58519f9c9df"
      },
      "execution_count": 39,
      "outputs": [
        {
          "output_type": "execute_result",
          "data": {
            "text/plain": [
              "{2: Fraction(2, 5), 4: Fraction(1, 5), 5: Fraction(1, 10), 3: Fraction(3, 10)}"
            ]
          },
          "metadata": {},
          "execution_count": 39
        }
      ]
    },
    {
      "cell_type": "code",
      "source": [
        "leyS_d=pd.Series(leyS_d) #Darle forma de matriz al resultado de leyS_d\n",
        "leyS_d=leyS_d.sort_index() #Ordena la columna de las sumas de la menor a mayor\n",
        "leyS_d"
      ],
      "metadata": {
        "colab": {
          "base_uri": "https://localhost:8080/",
          "height": 209
        },
        "id": "FnL7hbZ-yDuD",
        "outputId": "97797ed6-b7e7-446c-ec50-d420bf0c6056"
      },
      "execution_count": 40,
      "outputs": [
        {
          "output_type": "execute_result",
          "data": {
            "text/plain": [
              "2     2/5\n",
              "3    3/10\n",
              "4     1/5\n",
              "5    1/10\n",
              "dtype: object"
            ],
            "text/html": [
              "<div>\n",
              "<style scoped>\n",
              "    .dataframe tbody tr th:only-of-type {\n",
              "        vertical-align: middle;\n",
              "    }\n",
              "\n",
              "    .dataframe tbody tr th {\n",
              "        vertical-align: top;\n",
              "    }\n",
              "\n",
              "    .dataframe thead th {\n",
              "        text-align: right;\n",
              "    }\n",
              "</style>\n",
              "<table border=\"1\" class=\"dataframe\">\n",
              "  <thead>\n",
              "    <tr style=\"text-align: right;\">\n",
              "      <th></th>\n",
              "      <th>0</th>\n",
              "    </tr>\n",
              "  </thead>\n",
              "  <tbody>\n",
              "    <tr>\n",
              "      <th>2</th>\n",
              "      <td>2/5</td>\n",
              "    </tr>\n",
              "    <tr>\n",
              "      <th>3</th>\n",
              "      <td>3/10</td>\n",
              "    </tr>\n",
              "    <tr>\n",
              "      <th>4</th>\n",
              "      <td>1/5</td>\n",
              "    </tr>\n",
              "    <tr>\n",
              "      <th>5</th>\n",
              "      <td>1/10</td>\n",
              "    </tr>\n",
              "  </tbody>\n",
              "</table>\n",
              "</div><br><label><b>dtype:</b> object</label>"
            ]
          },
          "metadata": {},
          "execution_count": 40
        }
      ]
    },
    {
      "cell_type": "markdown",
      "source": [
        "- Por lo tanto la  para la variable aleatoria $\n",
        "S_{d} =\n",
        "\\begin{cases}\n",
        "(i,j)\\in \\Omega \\mid&\\text{i-j=k > 1 }\\}\n",
        "\\end{cases}\n",
        "$\n",
        "\n",
        "> $$\n",
        "f(x) =\n",
        "\\begin{cases}\n",
        "\\frac{4}{10} & \\text{, si } x=2\\\\\n",
        "\\frac{3}{10} & \\text{, si } x=3\\\\\n",
        "\\frac{2}{10} & \\text{, si } x=4\\\\\n",
        "\\frac{1}{10} & \\text{, si } x=5\\\\\n",
        "0 & \\text{, e.o.c}\n",
        "\\end{cases}\n",
        "$$\n",
        "\n",
        "- Verificar que\n",
        "$$\\sum_{k\\in R_{X}}\\mathbb{P}(X=k)=1$$\n",
        "\n",
        "$$\\mathbb{P}(X=2)+\\mathbb{P}(X=3)+\\mathbb{P}(X=4)+\\mathbb{P}(X=5)=1$$\n",
        "\n",
        "\n",
        "$$\\frac{4}{10}+\\frac{3}{10}+\\frac{2}{10}+\\frac{1}{10}= 1$$"
      ],
      "metadata": {
        "id": "49dTP5B6y1hk"
      }
    },
    {
      "cell_type": "markdown",
      "source": [
        "##Calcular la ley de la v.a la suma de las caras es par\n",
        "\n",
        "Utilizando la lista $L= [1,2,3,4,5,6]$ con los número posibles del dado y al conjunto\n",
        "$\\Omega = \\{1,2,3,4,5,6\\} \\times \\{1,2,3,4,5,6\\}$  que contiene a los posibles pares ordenados de lanzar los dos dados.\n",
        "\n",
        "Se define al conjunto $S_{par}$ un subconjunto de $\\Omega$ para conocer los distintos pares con su valor de diferencia que cumpla la definición de la v.a."
      ],
      "metadata": {
        "id": "NWTQF3yuy86L"
      }
    },
    {
      "cell_type": "code",
      "source": [
        "#Da la diferencia de cada uno de los pares ordenados son suma par\n",
        "S_par={(i,j):i+j for i,j in Omega if (i+j)%2==0}\n",
        "S_par"
      ],
      "metadata": {
        "colab": {
          "base_uri": "https://localhost:8080/"
        },
        "id": "GqcjnHZQzaNJ",
        "outputId": "55d24f9f-2510-48a8-cea0-1f9691be20fa"
      },
      "execution_count": 41,
      "outputs": [
        {
          "output_type": "execute_result",
          "data": {
            "text/plain": [
              "{(3, 1): 4,\n",
              " (4, 6): 10,\n",
              " (5, 1): 6,\n",
              " (2, 2): 4,\n",
              " (1, 3): 4,\n",
              " (6, 2): 8,\n",
              " (4, 2): 6,\n",
              " (3, 3): 6,\n",
              " (5, 3): 8,\n",
              " (2, 4): 6,\n",
              " (1, 5): 6,\n",
              " (6, 4): 10,\n",
              " (3, 5): 8,\n",
              " (4, 4): 8,\n",
              " (5, 5): 10,\n",
              " (1, 1): 2,\n",
              " (2, 6): 8,\n",
              " (6, 6): 12}"
            ]
          },
          "metadata": {},
          "execution_count": 41
        }
      ]
    },
    {
      "cell_type": "code",
      "source": [
        "#Definir Omega3 como el conjunto de posibles resultados para obtener su cardinalidad y definir la función\n",
        "Omega3=S_par.keys()\n",
        "Omega3"
      ],
      "metadata": {
        "colab": {
          "base_uri": "https://localhost:8080/"
        },
        "id": "sxdHZOBBzeeX",
        "outputId": "08693761-ad19-431c-838c-fce5c6b2fe3e"
      },
      "execution_count": 42,
      "outputs": [
        {
          "output_type": "execute_result",
          "data": {
            "text/plain": [
              "dict_keys([(3, 1), (4, 6), (5, 1), (2, 2), (1, 3), (6, 2), (4, 2), (3, 3), (5, 3), (2, 4), (1, 5), (6, 4), (3, 5), (4, 4), (5, 5), (1, 1), (2, 6), (6, 6)])"
            ]
          },
          "metadata": {},
          "execution_count": 42
        }
      ]
    },
    {
      "cell_type": "code",
      "source": [
        "len(Omega3)"
      ],
      "metadata": {
        "colab": {
          "base_uri": "https://localhost:8080/"
        },
        "id": "gdoZTGYozeVw",
        "outputId": "b099cc31-9647-4053-8223-51c2988f548a"
      },
      "execution_count": 43,
      "outputs": [
        {
          "output_type": "execute_result",
          "data": {
            "text/plain": [
              "18"
            ]
          },
          "metadata": {},
          "execution_count": 43
        }
      ]
    },
    {
      "cell_type": "code",
      "source": [
        "#Se define la función que considera al evento A y a Omega3\n",
        "#para poder conocer la probabilidad de ocurrencia\n",
        "def P3(A,Omega3):\n",
        "  P3=Fraction(len(A),len(Omega3))\n",
        "  return P3"
      ],
      "metadata": {
        "id": "n4EFJ_sfzeNJ"
      },
      "execution_count": 44,
      "outputs": []
    },
    {
      "cell_type": "code",
      "source": [
        "#Vamos a crear un diccionario por default de manera sintética y arreglada\n",
        "from collections import defaultdict\n",
        "dS_par=defaultdict(set) #los parentesis los rellenas con set porque vas a agregar conjuntos\n",
        "dS_par"
      ],
      "metadata": {
        "colab": {
          "base_uri": "https://localhost:8080/"
        },
        "id": "lgQBegAbzeDP",
        "outputId": "aa4f584d-d486-41a1-c166-3d4ebea88f77"
      },
      "execution_count": 45,
      "outputs": [
        {
          "output_type": "execute_result",
          "data": {
            "text/plain": [
              "defaultdict(set, {})"
            ]
          },
          "metadata": {},
          "execution_count": 45
        }
      ]
    },
    {
      "cell_type": "code",
      "source": [
        "#Si imprimo j, me da los resultados de las sumas de los pares del diccionario\n",
        "#Si imprimo i, me da los elementos de la izquierda (llaves)\n",
        "for i,j in S_par.items():\n",
        "  dS_par[j].add(i) #Para cada j, añades al diccionario la llave i\n",
        "dS_par"
      ],
      "metadata": {
        "colab": {
          "base_uri": "https://localhost:8080/"
        },
        "id": "zQQHc9xPzpe-",
        "outputId": "124279c2-adf3-492e-9744-c04527eedc40"
      },
      "execution_count": 46,
      "outputs": [
        {
          "output_type": "execute_result",
          "data": {
            "text/plain": [
              "defaultdict(set,\n",
              "            {4: {(1, 3), (2, 2), (3, 1)},\n",
              "             10: {(4, 6), (5, 5), (6, 4)},\n",
              "             6: {(1, 5), (2, 4), (3, 3), (4, 2), (5, 1)},\n",
              "             8: {(2, 6), (3, 5), (4, 4), (5, 3), (6, 2)},\n",
              "             2: {(1, 1)},\n",
              "             12: {(6, 6)}})"
            ]
          },
          "metadata": {},
          "execution_count": 46
        }
      ]
    },
    {
      "cell_type": "code",
      "source": [
        "leyS_par={k: P3(A,Omega3) for k,A in dS_par.items()}\n",
        "leyS_par"
      ],
      "metadata": {
        "colab": {
          "base_uri": "https://localhost:8080/"
        },
        "id": "5q7S_pKnzpYw",
        "outputId": "278e2fbe-d429-4880-ea72-bc3dde4ca8c6"
      },
      "execution_count": 47,
      "outputs": [
        {
          "output_type": "execute_result",
          "data": {
            "text/plain": [
              "{4: Fraction(1, 6),\n",
              " 10: Fraction(1, 6),\n",
              " 6: Fraction(5, 18),\n",
              " 8: Fraction(5, 18),\n",
              " 2: Fraction(1, 18),\n",
              " 12: Fraction(1, 18)}"
            ]
          },
          "metadata": {},
          "execution_count": 47
        }
      ]
    },
    {
      "cell_type": "code",
      "source": [
        "leyS_par=pd.Series(leyS_par) #Darle forma de matriz al resultado de leyS_d\n",
        "leyS_par=leyS_par.sort_index() #Ordena la columna de las sumas de la menor a mayor\n",
        "leyS_par"
      ],
      "metadata": {
        "colab": {
          "base_uri": "https://localhost:8080/",
          "height": 272
        },
        "id": "WSpxKo4ZzpSy",
        "outputId": "ede78a16-0b42-452e-8ee4-b3a77e769042"
      },
      "execution_count": 48,
      "outputs": [
        {
          "output_type": "execute_result",
          "data": {
            "text/plain": [
              "2     1/18\n",
              "4      1/6\n",
              "6     5/18\n",
              "8     5/18\n",
              "10     1/6\n",
              "12    1/18\n",
              "dtype: object"
            ],
            "text/html": [
              "<div>\n",
              "<style scoped>\n",
              "    .dataframe tbody tr th:only-of-type {\n",
              "        vertical-align: middle;\n",
              "    }\n",
              "\n",
              "    .dataframe tbody tr th {\n",
              "        vertical-align: top;\n",
              "    }\n",
              "\n",
              "    .dataframe thead th {\n",
              "        text-align: right;\n",
              "    }\n",
              "</style>\n",
              "<table border=\"1\" class=\"dataframe\">\n",
              "  <thead>\n",
              "    <tr style=\"text-align: right;\">\n",
              "      <th></th>\n",
              "      <th>0</th>\n",
              "    </tr>\n",
              "  </thead>\n",
              "  <tbody>\n",
              "    <tr>\n",
              "      <th>2</th>\n",
              "      <td>1/18</td>\n",
              "    </tr>\n",
              "    <tr>\n",
              "      <th>4</th>\n",
              "      <td>1/6</td>\n",
              "    </tr>\n",
              "    <tr>\n",
              "      <th>6</th>\n",
              "      <td>5/18</td>\n",
              "    </tr>\n",
              "    <tr>\n",
              "      <th>8</th>\n",
              "      <td>5/18</td>\n",
              "    </tr>\n",
              "    <tr>\n",
              "      <th>10</th>\n",
              "      <td>1/6</td>\n",
              "    </tr>\n",
              "    <tr>\n",
              "      <th>12</th>\n",
              "      <td>1/18</td>\n",
              "    </tr>\n",
              "  </tbody>\n",
              "</table>\n",
              "</div><br><label><b>dtype:</b> object</label>"
            ]
          },
          "metadata": {},
          "execution_count": 48
        }
      ]
    },
    {
      "cell_type": "markdown",
      "source": [
        "- Por lo tanto la  para la variable aleatoria $\n",
        "S_{par} =\n",
        "\\begin{cases}\n",
        "(i,j)\\in \\Omega \\mid&\\text{i+j=k es par }\\}\n",
        "\\end{cases}\n",
        "$\n",
        "\n",
        "> $$\n",
        "f(x) =\n",
        "\\begin{cases}\n",
        "\\frac{1}{18} & \\text{, si } x \\in \\{2,12\\}\\\\\n",
        "\\frac{3}{18} & \\text{, si } x \\in \\{4,10\\}\\\\\n",
        "\\frac{5}{18} & \\text{, si } x \\in \\{6,8\\} \\\\\n",
        "0 & \\text{ , e.o.c}\n",
        "\\end{cases}\n",
        "$$\n",
        "\n",
        "- Verificar que\n",
        "$$\\sum_{k\\in R_{X}}\\mathbb{P}(X=k)=1$$\n",
        "\n",
        "$$\\mathbb{P}(X=2)+\\mathbb{P}(X=4)+\\mathbb{P}(X=6)+\\mathbb{P}(X=8)+\\mathbb{P}(X=10)+\\mathbb{P}(X=12)=1$$\n",
        "\n",
        "\n",
        "$$\\frac{1}{18}+\\frac{3}{18}+\\frac{5}{18}+\\frac{5}{18}+\\frac{3}{18}+\\frac{1}{18}= 1$$"
      ],
      "metadata": {
        "id": "3M4kdzJjz1sD"
      }
    },
    {
      "cell_type": "markdown",
      "source": [
        "# 5. Graficar la distribución de la v.a. S\n",
        "Dibuja a la función de distribución acumulada de la variable aleatoria:\n",
        "$$S:\\{1,2,3,4,5,6\\}^{2}\\to \\{2, 3, 4, 5, 6, 7, 8, 9, 10, 11, 12 \\}$$\n",
        "dada por\n",
        "$$S= \\{(i,j)\\in \\Omega \\mid i+j=k \\}$$\n",
        "\n",
        "##Función de densidad\n",
        "\n",
        "> $$\n",
        "f(x) =\n",
        "\\begin{cases}\n",
        "\\frac{1}{36} & \\text{, si } x=2\\\\\n",
        "\\frac{2}{36} & \\text{, si } x=3\\\\\n",
        "\\frac{3}{36} & \\text{, si } x=4\\\\\n",
        "\\frac{4}{36} & \\text{, si } x=5\\\\\n",
        "\\frac{5}{36} & \\text{, si } x=6\\\\\n",
        "\\frac{6}{36} & \\text{, si } x=7\\\\\n",
        "\\frac{5}{36} & \\text{, si } x=8\\\\\n",
        "\\frac{4}{36} & \\text{, si } x=9\\\\\n",
        "\\frac{3}{36} & \\text{, si } x=10\\\\\n",
        "\\frac{2}{36} & \\text{, si } x=11\\\\\n",
        "\\frac{1}{36} & \\text{, si } x=12\\\\\n",
        "0 & \\text{ , e.o.c}\n",
        "\\end{cases}\n",
        "$$\n",
        "\n",
        "##Función de distribución acumulada\n",
        "> $$\n",
        "F(x) =\n",
        "\\begin{cases}\n",
        "0 & \\text{, si } x< 2\\\\\n",
        "\\frac{1}{36} & \\text{, si } x\\leq 2\\\\\n",
        "\\frac{3}{36} & \\text{, si } 2<x\\leq 3\\\\\n",
        "\\frac{6}{36} & \\text{, si } 3<x\\leq 4\\\\\n",
        "\\frac{10}{36} & \\text{, si } 4<x \\leq 5\\\\\n",
        "\\frac{15}{36} & \\text{, si } 5<x \\leq 6\\\\\n",
        "\\frac{21}{36} & \\text{, si } 6<x \\leq 7\\\\\n",
        "\\frac{26}{36} & \\text{, si } 7<x \\leq 8\\\\\n",
        "\\frac{30}{36} & \\text{, si } 8<x \\leq 9\\\\\n",
        "\\frac{33}{36} & \\text{, si } 9<x \\leq 10\\\\\n",
        "\\frac{35}{36} & \\text{, si } 10<x \\leq 11\\\\\n",
        "1 & \\text{, si } x \\geq 12\\\\\n",
        "\\end{cases}\n",
        "$$\n"
      ],
      "metadata": {
        "id": "1y16pUvPz_Y5"
      }
    },
    {
      "cell_type": "code",
      "source": [
        "import matplotlib.pyplot as plt\n",
        "\n",
        "# Valores posibles de la suma de las caras de dos dados\n",
        "sumas = [2, 3, 4, 5, 6, 7, 8, 9, 10, 11, 12]\n",
        "\n",
        "# Probabilidades asociadas a cada suma\n",
        "prob = [ 1/36, 2/36, 3/36, 4/36, 5/36, 6/36, 5/36, 4/36, 3/36, 2/36, 1/36]\n",
        "\n",
        "# Crear la gráfica\n",
        "plt.bar(sumas, prob, color='blue')\n",
        "\n",
        "# Etiquetas de la gráfica\n",
        "plt.title('Función de densidad de la suma de dos dados')\n",
        "plt.xlabel('Suma de las caras')\n",
        "plt.ylabel('Probabilidad')\n",
        "\n",
        "# Mostrar la gráfica\n",
        "plt.show()"
      ],
      "metadata": {
        "colab": {
          "base_uri": "https://localhost:8080/",
          "height": 472
        },
        "id": "GTIyLrfzzpND",
        "outputId": "731550c7-bc0b-4eec-d1a3-caf3079c215d"
      },
      "execution_count": 51,
      "outputs": [
        {
          "output_type": "display_data",
          "data": {
            "text/plain": [
              "<Figure size 640x480 with 1 Axes>"
            ],
            "image/png": "[encoded data removed]"
          },
          "metadata": {}
        }
      ]
    },
    {
      "cell_type": "code",
      "source": [
        "import numpy as np\n",
        "import matplotlib.pyplot as plt\n",
        "\n",
        "# Definir los puntos clave de la CDF basados en la imagen\n",
        "x_valores = [2, 3, 4, 5, 6, 7, 8, 9, 10, 11, 12]\n",
        "cdf_valores = [1/36, 3/36, 6/36, 10/36, 15/36, 21/36, 26/36, 30/36, 33/36, 35/36, 1]\n",
        "\n",
        "# Crear la gráfica\n",
        "plt.bar(x_valores, cdf_valores, color='red')\n",
        "\n",
        "# Etiquetas de la gráfica\n",
        "plt.title('Función de distribución acumulada (CFD)')\n",
        "plt.xlabel('Suma de las caras')\n",
        "plt.ylabel('Probabilidad acumulada')\n",
        "\n",
        "# Mostrar la gráfica\n",
        "plt.show()"
      ],
      "metadata": {
        "colab": {
          "base_uri": "https://localhost:8080/",
          "height": 472
        },
        "id": "ZokG91w-0IYG",
        "outputId": "7dba092f-00f9-4078-a8fa-6600d7d12d78"
      },
      "execution_count": 52,
      "outputs": [
        {
          "output_type": "display_data",
          "data": {
            "text/plain": [
              "<Figure size 640x480 with 1 Axes>"
            ],
            "image/png": "[encoded data removed]"
          },
          "metadata": {}
        }
      ]
    }
  ]
}